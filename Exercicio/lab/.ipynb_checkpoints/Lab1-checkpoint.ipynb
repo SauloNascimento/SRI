{
 "cells": [
  {
   "cell_type": "code",
   "execution_count": 2,
   "metadata": {},
   "outputs": [
    {
     "ename": "ModuleNotFoundError",
     "evalue": "No module named 'pandas'",
     "output_type": "error",
     "traceback": [
      "\u001b[1;31m---------------------------------------------------------------------------\u001b[0m",
      "\u001b[1;31mModuleNotFoundError\u001b[0m                       Traceback (most recent call last)",
      "\u001b[1;32m<ipython-input-2-38d4b0363d82>\u001b[0m in \u001b[0;36m<module>\u001b[1;34m()\u001b[0m\n\u001b[1;32m----> 1\u001b[1;33m \u001b[1;32mimport\u001b[0m \u001b[0mpandas\u001b[0m\u001b[1;33m\u001b[0m\u001b[0m\n\u001b[0m",
      "\u001b[1;31mModuleNotFoundError\u001b[0m: No module named 'pandas'"
     ]
    }
   ],
   "source": [
    "import pandas"
   ]
  },
  {
   "cell_type": "code",
   "execution_count": 83,
   "metadata": {},
   "outputs": [],
   "source": [
    "tabela = pandas.read_csv('noticias_estadao.csv')"
   ]
  },
  {
   "cell_type": "code",
   "execution_count": 84,
   "metadata": {
    "collapsed": true
   },
   "outputs": [],
   "source": [
    "mapa = {}"
   ]
  },
  {
   "cell_type": "code",
   "execution_count": 85,
   "metadata": {},
   "outputs": [],
   "source": [
    "for index, linha in tabela.iterrows() :\n",
    "    id = linha['idNoticia']\n",
    "    texto = linha['titulo'] + ' ' + linha['conteudo']\n",
    "    texto = texto.split(' ')\n",
    "    for palavra in texto:\n",
    "        if (palavra[-1] == '.' or palavra[-1] == ',') :\n",
    "            palavra = palavra[:len(palavra)-1]\n",
    "        if (palavra.lower() in mapa) :\n",
    "            if (id not in mapa[palavra.lower()]) :\n",
    "                mapa[palavra.lower()].append(id)\n",
    "        else :\n",
    "            mapa[palavra.lower()] = [id]"
   ]
  },
  {
   "cell_type": "markdown",
   "metadata": {},
   "source": [
    "# Consultas"
   ]
  },
  {
   "cell_type": "code",
   "execution_count": 121,
   "metadata": {},
   "outputs": [],
   "source": [
    "def searchAnd(palavra1, palavra2) :\n",
    "    docs1 = mapa[palavra1.lower()]\n",
    "    docs2 = mapa[palavra2.lower()]\n",
    "    result = set()\n",
    "    result.update(docs1)\n",
    "    result = result.intersection(docs2)\n",
    "    return list(result)"
   ]
  },
  {
   "cell_type": "code",
   "execution_count": 100,
   "metadata": {
    "collapsed": true
   },
   "outputs": [],
   "source": [
    "def searchOr(palavra1, palavra2) :\n",
    "    docs1 = mapa[palavra1.lower()]\n",
    "    docs2 = mapa[palavra2.lower()]\n",
    "    result = set()\n",
    "    result.update(docs1)\n",
    "    result.update(docs2)\n",
    "    return list(result)"
   ]
  },
  {
   "cell_type": "code",
   "execution_count": 106,
   "metadata": {},
   "outputs": [],
   "source": [
    "def search(consulta) :\n",
    "    partes = consulta.split(' ')\n",
    "    if (len(partes) < 2) :\n",
    "        return mapa[partes[0].lower()]\n",
    "    elif (partes[1].upper() == 'AND') :\n",
    "        return searchAnd(partes[0], partes[2])\n",
    "    elif (partes[1].upper() == 'OR') :\n",
    "        return searchOr(partes[0], partes[2])"
   ]
  },
  {
   "cell_type": "code",
   "execution_count": 1,
   "metadata": {},
   "outputs": [
    {
     "ename": "NameError",
     "evalue": "name 'consultar' is not defined",
     "output_type": "error",
     "traceback": [
      "\u001b[1;31m---------------------------------------------------------------------------\u001b[0m",
      "\u001b[1;31mNameError\u001b[0m                                 Traceback (most recent call last)",
      "\u001b[1;32m<ipython-input-1-2fbbc7b42331>\u001b[0m in \u001b[0;36m<module>\u001b[1;34m()\u001b[0m\n\u001b[1;32m----> 1\u001b[1;33m \u001b[0mprint\u001b[0m\u001b[1;33m(\u001b[0m\u001b[0mconsultar\u001b[0m\u001b[1;33m(\u001b[0m\u001b[1;34m'Grande, AND Campina'\u001b[0m\u001b[1;33m)\u001b[0m\u001b[1;33m)\u001b[0m\u001b[1;33m\u001b[0m\u001b[0m\n\u001b[0m",
      "\u001b[1;31mNameError\u001b[0m: name 'consultar' is not defined"
     ]
    }
   ],
   "source": [
    "print(consultar('Grande, AND Campina'))"
   ]
  }
 ],
 "metadata": {
  "kernelspec": {
   "display_name": "Python 3",
   "language": "python",
   "name": "python3"
  },
  "language_info": {
   "codemirror_mode": {
    "name": "ipython",
    "version": 3
   },
   "file_extension": ".py",
   "mimetype": "text/x-python",
   "name": "python",
   "nbconvert_exporter": "python",
   "pygments_lexer": "ipython3",
   "version": "3.6.3"
  }
 },
 "nbformat": 4,
 "nbformat_minor": 2
}
