{
 "cells": [
  {
   "cell_type": "code",
   "execution_count": 82,
   "metadata": {
    "collapsed": true
   },
   "outputs": [],
   "source": [
    "import pandas"
   ]
  },
  {
   "cell_type": "code",
   "execution_count": 83,
   "metadata": {},
   "outputs": [],
   "source": [
    "tabela = pandas.read_csv('noticias_estadao.csv')"
   ]
  },
  {
   "cell_type": "code",
   "execution_count": 84,
   "metadata": {
    "collapsed": true
   },
   "outputs": [],
   "source": [
    "mapa = {}"
   ]
  },
  {
   "cell_type": "code",
   "execution_count": 85,
   "metadata": {},
   "outputs": [],
   "source": [
    "for index, linha in tabela.iterrows() :\n",
    "    id = linha['idNoticia']\n",
    "    texto = linha['titulo'] + ' ' + linha['conteudo']\n",
    "    texto = texto.split(' ')\n",
    "    for palavra in texto:\n",
    "        if (palavra[-1] == '.' or palavra[-1] == ',') :\n",
    "            palavra = palavra[:len(palavra)-1]\n",
    "        if (palavra.lower() in mapa) :\n",
    "            if (id not in mapa[palavra.lower()]) :\n",
    "                mapa[palavra.lower()].append(id)\n",
    "        else :\n",
    "            mapa[palavra.lower()] = [id]"
   ]
  },
  {
   "cell_type": "markdown",
   "metadata": {},
   "source": [
    "# Consultas"
   ]
  },
  {
   "cell_type": "code",
   "execution_count": 121,
   "metadata": {},
   "outputs": [],
   "source": [
    "def consultaAnd(palavra1, palavra2) :\n",
    "    docs1 = mapa[palavra1.lower()]\n",
    "    docs2 = mapa[palavra2.lower()]\n",
    "    result = set()\n",
    "    result.update(docs1)\n",
    "    result = result.intersection(docs2)\n",
    "    return list(result)"
   ]
  },
  {
   "cell_type": "code",
   "execution_count": 100,
   "metadata": {
    "collapsed": true
   },
   "outputs": [],
   "source": [
    "def consultaOr(palavra1, palavra2) :\n",
    "    docs1 = mapa[palavra1.lower()]\n",
    "    docs2 = mapa[palavra2.lower()]\n",
    "    result = set()\n",
    "    result.update(docs1)\n",
    "    result.update(docs2)\n",
    "    return list(result)"
   ]
  },
  {
   "cell_type": "code",
   "execution_count": 106,
   "metadata": {},
   "outputs": [],
   "source": [
    "def consultar(consulta) :\n",
    "    partes = consulta.split(' ')\n",
    "    if (len(partes) < 2) :\n",
    "        return mapa[partes[0].lower()]\n",
    "    elif (partes[1].upper() == 'AND') :\n",
    "        return consultaAnd(partes[0], partes[2])\n",
    "    elif (partes[1].upper() == 'OR') :\n",
    "        return consultaOr(partes[0], partes[2])"
   ]
  },
  {
   "cell_type": "code",
   "execution_count": 124,
   "metadata": {},
   "outputs": [
    {
     "name": "stdout",
     "output_type": "stream",
     "text": [
      "[4802, 5382, 2763, 1068, 2777]\n"
     ]
    }
   ],
   "source": [
    "print(consultar('Grande, AND Campina'))"
   ]
  }
 ],
 "metadata": {
  "kernelspec": {
   "display_name": "Python 3",
   "language": "python",
   "name": "python3"
  },
  "language_info": {
   "codemirror_mode": {
    "name": "ipython",
    "version": 3
   },
   "file_extension": ".py",
   "mimetype": "text/x-python",
   "name": "python",
   "nbconvert_exporter": "python",
   "pygments_lexer": "ipython3",
   "version": "3.6.2"
  }
 },
 "nbformat": 4,
 "nbformat_minor": 2
}
